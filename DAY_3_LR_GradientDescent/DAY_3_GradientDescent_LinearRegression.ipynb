{
 "cells": [
  {
   "cell_type": "code",
   "execution_count": 104,
   "metadata": {
    "ExecuteTime": {
     "end_time": "2020-10-10T08:28:39.066288Z",
     "start_time": "2020-10-10T08:28:38.919514Z"
    }
   },
   "outputs": [
    {
     "data": {
      "image/png": "[encoded data removed]",
      "text/plain": [
       "<Figure size 432x288 with 1 Axes>"
      ]
     },
     "metadata": {
      "needs_background": "light"
     },
     "output_type": "display_data"
    }
   ],
   "source": [
    "import matplotlib.pyplot as plt\n",
    "import numpy as np\n",
    "x = np.linspace(-6,6,100)\n",
    "y = lambda x: x**4 - 3 * x**3 + 2\n",
    "y1 = lambda x: 4 * x - 9 * x**2\n",
    "\n",
    "plt.plot(x, y(x), '-g', label='y=x**4+ 3 *x**3 + 2')\n",
    "#plt.plot(x, y1(x), '-r', label='y=x**2+2')\n",
    "plt.title('Graph of y=x*^2+2')\n",
    "plt.xlabel('x', color='#1C2833')\n",
    "plt.ylabel('y', color='#1C2833')\n",
    "plt.legend(loc='upper left')\n",
    "plt.grid()\n",
    "plt.show()"
   ]
  },
  {
   "cell_type": "code",
   "execution_count": 81,
   "metadata": {
    "ExecuteTime": {
     "end_time": "2020-10-10T08:17:51.377642Z",
     "start_time": "2020-10-10T08:17:51.375093Z"
    }
   },
   "outputs": [],
   "source": [
    "df = lambda x: 4 * x**3 - 9 * x**2"
   ]
  },
  {
   "cell_type": "code",
   "execution_count": 82,
   "metadata": {
    "ExecuteTime": {
     "end_time": "2020-10-10T08:17:55.933974Z",
     "start_time": "2020-10-10T08:17:55.930654Z"
    }
   },
   "outputs": [
    {
     "data": {
      "text/plain": [
       "540"
      ]
     },
     "execution_count": 82,
     "metadata": {},
     "output_type": "execute_result"
    }
   ],
   "source": [
    "df(6)"
   ]
  },
  {
   "cell_type": "code",
   "execution_count": 106,
   "metadata": {
    "ExecuteTime": {
     "end_time": "2020-10-10T08:30:12.055798Z",
     "start_time": "2020-10-10T08:30:12.028267Z"
    }
   },
   "outputs": [
    {
     "name": "stdout",
     "output_type": "stream",
     "text": [
      "prev_x 6\n",
      "prev_x 5.46\n",
      "prev_x 5.077219056\n",
      "prev_x 4.7856971105651365\n",
      "prev_x 4.55339787326223\n",
      "prev_x 4.362368498794202\n",
      "prev_x 4.201572820934333\n",
      "prev_x 4.063766689032126\n",
      "prev_x 3.943955067763642\n",
      "prev_x 3.8385586634455064\n",
      "prev_x 3.7449319857105268\n",
      "prev_x 3.661069198026341\n",
      "prev_x 3.5854165422784474\n",
      "prev_x 3.516748292407647\n",
      "prev_x 3.4540821603786127\n",
      "prev_x 3.3966200673844655\n",
      "prev_x 3.3437057166338358\n",
      "prev_x 3.2947935874035488\n",
      "prev_x 3.249425871591936\n",
      "prev_x 3.2072150459678404\n",
      "prev_x 3.167830515792172\n",
      "prev_x 3.1309882475409334\n",
      "prev_x 3.0964426283628796\n",
      "prev_x 3.063980006434812\n",
      "prev_x 3.033413515580717\n",
      "prev_x 3.004578892017906\n",
      "prev_x 2.9773310653761236\n",
      "prev_x 2.951541359666197\n",
      "prev_x 2.9270951789390374\n",
      "prev_x 2.9038900812165425\n",
      "prev_x 2.88183416579972\n",
      "prev_x 2.8608447152843492\n",
      "prev_x 2.8408470459601665\n",
      "prev_x 2.821773529745893\n",
      "prev_x 2.803562758146137\n",
      "prev_x 2.7861588244355797\n",
      "prev_x 2.769510704768632\n",
      "prev_x 2.7535717224661393\n",
      "prev_x 2.738299082559317\n",
      "prev_x 2.7236534659364495\n",
      "prev_x 2.7095986742627165\n",
      "prev_x 2.69610131832149\n",
      "prev_x 2.6831305436287654\n",
      "prev_x 2.6706577881569578\n",
      "prev_x 2.6586565678136687\n",
      "prev_x 2.6471022859893707\n",
      "prev_x 2.635972064042245\n",
      "prev_x 2.625244590049948\n",
      "prev_x 2.614899983543948\n",
      "prev_x 2.604919674265854\n",
      "prev_x 2.595286293257836\n",
      "prev_x 2.5859835748296693\n",
      "prev_x 2.5769962681403173\n",
      "prev_x 2.568310057298151\n",
      "prev_x 2.5599114890256915\n",
      "prev_x 2.5517879070560943\n",
      "prev_x 2.5439273925327095\n",
      "prev_x 2.5363187097726536\n",
      "prev_x 2.528951256832619\n",
      "prev_x 2.521815020382014\n",
      "prev_x 2.5149005344465074\n",
      "prev_x 2.5081988426354296\n",
      "prev_x 2.5017014635103965\n",
      "prev_x 2.495400358790842\n",
      "prev_x 2.4892879041256855\n",
      "prev_x 2.4833568621897655\n",
      "prev_x 2.4776003578895125\n",
      "prev_x 2.472011855485068\n",
      "prev_x 2.4665851374561254\n",
      "prev_x 2.4613142849564915\n",
      "prev_x 2.4561936597180534\n",
      "prev_x 2.4512178872787556\n",
      "prev_x 2.446381841421546\n",
      "prev_x 2.4416806297222458\n",
      "prev_x 2.4371095801140967\n",
      "prev_x 2.432664228385483\n",
      "prev_x 2.428340306535143\n",
      "prev_x 2.4241337319161835\n",
      "prev_x 2.42004059710648\n",
      "prev_x 2.416057160448677\n",
      "prev_x 2.412179837208069\n",
      "prev_x 2.4084051913011955\n",
      "prev_x 2.404729927552086\n",
      "prev_x 2.40115088443681\n",
      "prev_x 2.3976650272803175\n",
      "prev_x 2.394269441872601\n",
      "prev_x 2.3909613284739435\n",
      "prev_x 2.3877379961815066\n",
      "prev_x 2.384596857631776\n",
      "prev_x 2.3815354240154236\n",
      "prev_x 2.378551300383023\n",
      "prev_x 2.3756421812217483\n",
      "prev_x 2.3728058462847357\n",
      "prev_x 2.3700401566562084\n",
      "prev_x 2.367343051036747\n",
      "prev_x 2.364712542234276\n",
      "prev_x 2.362146713847417\n",
      "prev_x 2.3596437171288405\n",
      "prev_x 2.357201768017173\n",
      "prev_x 2.354819144326828\n",
      "prev_x 2.3524941830859123\n",
      "prev_x 2.350225278013052\n",
      "prev_x 2.34801087712463\n",
      "prev_x 2.345849480464525\n",
      "prev_x 2.343739637948993\n",
      "prev_x 2.3416799473198298\n",
      "prev_x 2.339669052199428\n",
      "prev_x 2.33770564024177\n",
      "prev_x 2.3357884413737957\n",
      "prev_x 2.3339162261219557\n",
      "prev_x 2.332087804019098\n",
      "prev_x 2.3303020220871553\n",
      "prev_x 2.3285577633913923\n",
      "prev_x 2.3268539456622404\n",
      "prev_x 2.3251895199810066\n",
      "prev_x 2.3235634695259697\n",
      "prev_x 2.3219748083755993\n",
      "prev_x 2.320422580365833\n",
      "prev_x 2.3189058579985384\n",
      "prev_x 2.3174237413984566\n",
      "prev_x 2.315975357316093\n",
      "prev_x 2.31455985817417\n",
      "prev_x 2.313176421155395\n",
      "prev_x 2.3118242473294393\n",
      "prev_x 2.3105025608171363\n",
      "prev_x 2.309210607990028\n",
      "prev_x 2.3079476567034978\n",
      "prev_x 2.306712995561826\n",
      "prev_x 2.3055059332136\n",
      "prev_x 2.304325797675997\n",
      "prev_x 2.30317193568655\n",
      "prev_x 2.3020437120810637\n",
      "prev_x 2.300940509196451\n",
      "prev_x 2.299861726297295\n",
      "prev_x 2.2988067790250364\n",
      "prev_x 2.29777509886872\n",
      "prev_x 2.2967661326563116\n",
      "The local minimum occurs at 2.2957793420656354\n"
     ]
    }
   ],
   "source": [
    "# From calculation, it is expected that the local minimum occurs at x=9/4\n",
    "\n",
    "cur_x = 6 # The algorithm starts at x=6\n",
    "learning_rate = 0.001 # step size multiplier\n",
    "precision = 0.001\n",
    "previous_step_size = 1 \n",
    "max_iters = 1000 # maximum number of iterations\n",
    "iters = 0 #iteration counter\n",
    "\n",
    "df = lambda x: 4 * x**3 - 9 * x**2\n",
    "prev = []\n",
    "while ((previous_step_size > precision) and (iters < max_iters)):\n",
    "    prev_x = cur_x\n",
    "    cur_x -= learning_rate * df(prev_x)\n",
    "    #cur_x = cur_x -  learning_rate * df(prev_x)\n",
    "    previous_step_size = abs(cur_x - prev_x)\n",
    "    iters += 1\n",
    "    #print(\"cur_x\",cur_x)\n",
    "    #print(\"learning_rate\",learning_rate)\n",
    "    print(\"prev_x\",prev_x)\n",
    "    prev.append(prev_x)\n",
    "\n",
    "print(\"The local minimum occurs at\", cur_x)\n",
    "#The output for the above will be: ('The local minimum occurs at', 2.2499646074278457)"
   ]
  },
  {
   "cell_type": "code",
   "execution_count": 107,
   "metadata": {
    "ExecuteTime": {
     "end_time": "2020-10-10T08:30:16.967871Z",
     "start_time": "2020-10-10T08:30:16.962856Z"
    }
   },
   "outputs": [
    {
     "data": {
      "text/plain": [
       "[6,\n",
       " 5.46,\n",
       " 5.077219056,\n",
       " 4.7856971105651365,\n",
       " 4.55339787326223,\n",
       " 4.362368498794202,\n",
       " 4.201572820934333,\n",
       " 4.063766689032126,\n",
       " 3.943955067763642,\n",
       " 3.8385586634455064,\n",
       " 3.7449319857105268,\n",
       " 3.661069198026341,\n",
       " 3.5854165422784474,\n",
       " 3.516748292407647,\n",
       " 3.4540821603786127,\n",
       " 3.3966200673844655,\n",
       " 3.3437057166338358,\n",
       " 3.2947935874035488,\n",
       " 3.249425871591936,\n",
       " 3.2072150459678404,\n",
       " 3.167830515792172,\n",
       " 3.1309882475409334,\n",
       " 3.0964426283628796,\n",
       " 3.063980006434812,\n",
       " 3.033413515580717,\n",
       " 3.004578892017906,\n",
       " 2.9773310653761236,\n",
       " 2.951541359666197,\n",
       " 2.9270951789390374,\n",
       " 2.9038900812165425,\n",
       " 2.88183416579972,\n",
       " 2.8608447152843492,\n",
       " 2.8408470459601665,\n",
       " 2.821773529745893,\n",
       " 2.803562758146137,\n",
       " 2.7861588244355797,\n",
       " 2.769510704768632,\n",
       " 2.7535717224661393,\n",
       " 2.738299082559317,\n",
       " 2.7236534659364495,\n",
       " 2.7095986742627165,\n",
       " 2.69610131832149,\n",
       " 2.6831305436287654,\n",
       " 2.6706577881569578,\n",
       " 2.6586565678136687,\n",
       " 2.6471022859893707,\n",
       " 2.635972064042245,\n",
       " 2.625244590049948,\n",
       " 2.614899983543948,\n",
       " 2.604919674265854,\n",
       " 2.595286293257836,\n",
       " 2.5859835748296693,\n",
       " 2.5769962681403173,\n",
       " 2.568310057298151,\n",
       " 2.5599114890256915,\n",
       " 2.5517879070560943,\n",
       " 2.5439273925327095,\n",
       " 2.5363187097726536,\n",
       " 2.528951256832619,\n",
       " 2.521815020382014,\n",
       " 2.5149005344465074,\n",
       " 2.5081988426354296,\n",
       " 2.5017014635103965,\n",
       " 2.495400358790842,\n",
       " 2.4892879041256855,\n",
       " 2.4833568621897655,\n",
       " 2.4776003578895125,\n",
       " 2.472011855485068,\n",
       " 2.4665851374561254,\n",
       " 2.4613142849564915,\n",
       " 2.4561936597180534,\n",
       " 2.4512178872787556,\n",
       " 2.446381841421546,\n",
       " 2.4416806297222458,\n",
       " 2.4371095801140967,\n",
       " 2.432664228385483,\n",
       " 2.428340306535143,\n",
       " 2.4241337319161835,\n",
       " 2.42004059710648,\n",
       " 2.416057160448677,\n",
       " 2.412179837208069,\n",
       " 2.4084051913011955,\n",
       " 2.404729927552086,\n",
       " 2.40115088443681,\n",
       " 2.3976650272803175,\n",
       " 2.394269441872601,\n",
       " 2.3909613284739435,\n",
       " 2.3877379961815066,\n",
       " 2.384596857631776,\n",
       " 2.3815354240154236,\n",
       " 2.378551300383023,\n",
       " 2.3756421812217483,\n",
       " 2.3728058462847357,\n",
       " 2.3700401566562084,\n",
       " 2.367343051036747,\n",
       " 2.364712542234276,\n",
       " 2.362146713847417,\n",
       " 2.3596437171288405,\n",
       " 2.357201768017173,\n",
       " 2.354819144326828,\n",
       " 2.3524941830859123,\n",
       " 2.350225278013052,\n",
       " 2.34801087712463,\n",
       " 2.345849480464525,\n",
       " 2.343739637948993,\n",
       " 2.3416799473198298,\n",
       " 2.339669052199428,\n",
       " 2.33770564024177,\n",
       " 2.3357884413737957,\n",
       " 2.3339162261219557,\n",
       " 2.332087804019098,\n",
       " 2.3303020220871553,\n",
       " 2.3285577633913923,\n",
       " 2.3268539456622404,\n",
       " 2.3251895199810066,\n",
       " 2.3235634695259697,\n",
       " 2.3219748083755993,\n",
       " 2.320422580365833,\n",
       " 2.3189058579985384,\n",
       " 2.3174237413984566,\n",
       " 2.315975357316093,\n",
       " 2.31455985817417,\n",
       " 2.313176421155395,\n",
       " 2.3118242473294393,\n",
       " 2.3105025608171363,\n",
       " 2.309210607990028,\n",
       " 2.3079476567034978,\n",
       " 2.306712995561826,\n",
       " 2.3055059332136,\n",
       " 2.304325797675997,\n",
       " 2.30317193568655,\n",
       " 2.3020437120810637,\n",
       " 2.300940509196451,\n",
       " 2.299861726297295,\n",
       " 2.2988067790250364,\n",
       " 2.29777509886872,\n",
       " 2.2967661326563116]"
      ]
     },
     "execution_count": 107,
     "metadata": {},
     "output_type": "execute_result"
    }
   ],
   "source": [
    "prev"
   ]
  },
  {
   "cell_type": "code",
   "execution_count": 108,
   "metadata": {
    "ExecuteTime": {
     "end_time": "2020-10-10T08:30:26.149323Z",
     "start_time": "2020-10-10T08:30:26.145483Z"
    }
   },
   "outputs": [
    {
     "data": {
      "text/plain": [
       "137"
      ]
     },
     "execution_count": 108,
     "metadata": {},
     "output_type": "execute_result"
    }
   ],
   "source": [
    "len(prev)"
   ]
  },
  {
   "cell_type": "code",
   "execution_count": 105,
   "metadata": {
    "ExecuteTime": {
     "end_time": "2020-10-10T08:30:02.169057Z",
     "start_time": "2020-10-10T08:30:02.165551Z"
    }
   },
   "outputs": [
    {
     "data": {
      "text/plain": [
       "[6,\n",
       " 0.5999999999999996,\n",
       " 0.6237599999999996,\n",
       " 0.6490692731402646,\n",
       " 0.6760475763767438,\n",
       " 0.704821965498881,\n",
       " 0.7355261366038248,\n",
       " 0.7682992721113444,\n",
       " 0.8032842278686305,\n",
       " 0.840624861847519,\n",
       " 0.8804622684298664,\n",
       " 0.9229296507309586,\n",
       " 0.9681455460305634,\n",
       " 1.016205130521792,\n",
       " 1.067169389942697,\n",
       " 1.1210520795330405,\n",
       " 1.1778046421472836,\n",
       " 1.237299637824332,\n",
       " 1.2993137782331108,\n",
       " 1.3635123370474889,\n",
       " 1.429437442158506,\n",
       " 1.4965033788967752,\n",
       " 1.5640022802344904,\n",
       " 1.6311231270849003,\n",
       " 1.6969855549473505,\n",
       " 1.7606875094969714,\n",
       " 1.821362659674955,\n",
       " 1.8782404675959476,\n",
       " 1.930700009196379,\n",
       " 1.9783089472809865,\n",
       " 2.0208417065692057,\n",
       " 2.0582751831448975,\n",
       " 2.090764845528107,\n",
       " 2.118607415721545,\n",
       " 2.1421976265432066,\n",
       " 2.1619858762300224,\n",
       " 2.178441640823547,\n",
       " 2.1920251576443675,\n",
       " 2.203167862727841,\n",
       " 2.2122606942724694,\n",
       " 2.2196486877629633,\n",
       " 2.2256301304909205,\n",
       " 2.2304587076907274,\n",
       " 2.234347382687595,\n",
       " 2.2374730902946083,\n",
       " 2.239981621916576,\n",
       " 2.2419923174775156,\n",
       " 2.243602351591089,\n",
       " 2.2448905184851697,\n",
       " 2.2459204946033684]"
      ]
     },
     "execution_count": 105,
     "metadata": {},
     "output_type": "execute_result"
    }
   ],
   "source": [
    "prev"
   ]
  },
  {
   "cell_type": "code",
   "execution_count": 109,
   "metadata": {
    "ExecuteTime": {
     "end_time": "2020-10-10T08:30:34.135825Z",
     "start_time": "2020-10-10T08:30:33.990741Z"
    }
   },
   "outputs": [
    {
     "data": {
      "image/png": "[encoded data removed]",
      "text/plain": [
       "<Figure size 432x288 with 1 Axes>"
      ]
     },
     "metadata": {
      "needs_background": "light"
     },
     "output_type": "display_data"
    }
   ],
   "source": [
    "import matplotlib.pyplot as plt\n",
    "import numpy as np\n",
    "x = np.arange(1,138)\n",
    "y = prev\n",
    "plt.plot(x, y, '.r', label='y=x**2+2')\n",
    "plt.title('Graph of y=x*^2+2')\n",
    "plt.xlabel('x', color='#1C2833')\n",
    "plt.ylabel('y', color='#1C2833')\n",
    "plt.legend(loc='upper left')\n",
    "plt.grid()\n",
    "plt.show()"
   ]
  },
  {
   "cell_type": "code",
   "execution_count": 135,
   "metadata": {
    "ExecuteTime": {
     "end_time": "2020-10-10T10:52:21.507516Z",
     "start_time": "2020-10-10T10:52:21.086437Z"
    }
   },
   "outputs": [
    {
     "name": "stdout",
     "output_type": "stream",
     "text": [
      "Starting gradient descent at b = 0, m = 0, error = 5527.653476594393\n",
      "Running...\n"
     ]
    },
    {
     "data": {
      "image/png": "[encoded data removed]",
      "text/plain": [
       "<Figure size 432x288 with 1 Axes>"
      ]
     },
     "metadata": {
      "needs_background": "light"
     },
     "output_type": "display_data"
    },
    {
     "data": {
      "image/png": "[encoded data removed]",
      "text/plain": [
       "<Figure size 432x288 with 1 Axes>"
      ]
     },
     "metadata": {
      "needs_background": "light"
     },
     "output_type": "display_data"
    },
    {
     "data": {
      "image/png": "[encoded data removed]",
      "text/plain": [
       "<Figure size 432x288 with 1 Axes>"
      ]
     },
     "metadata": {
      "needs_background": "light"
     },
     "output_type": "display_data"
    },
    {
     "name": "stdout",
     "output_type": "stream",
     "text": [
      "After 100 iterations b = 0.034341152780050115, m = 1.4867184005879117, error = 118.90795299056293\n"
     ]
    }
   ],
   "source": [
    "from numpy import *\n",
    "\n",
    "# y = mx + b\n",
    "# m is slope, b is y-intercept\n",
    "def compute_error_for_line_given_points(b, m, points):\n",
    "    totalError = 0\n",
    "    for i in range(0, len(points)):\n",
    "        x = points[i, 0]\n",
    "        y = points[i, 1]\n",
    "        totalError += (y - (m * x + b)) ** 2\n",
    "    return totalError / float(len(points))\n",
    "\n",
    "def step_gradient(b_current, m_current, points, learningRate):\n",
    "    b_gradient = 0\n",
    "    m_gradient = 0\n",
    "    N = float(len(points))\n",
    "    for i in range(0, len(points)):\n",
    "        x = points[i, 0]\n",
    "        y = points[i, 1]\n",
    "        b_gradient += -(2/N) * (y - ((m_current * x) + b_current))\n",
    "        m_gradient += -(2/N) * x * (y - ((m_current * x) + b_current))\n",
    "    new_b = b_current - (learningRate * b_gradient)\n",
    "    new_m = m_current - (learningRate * m_gradient)\n",
    "    return [new_b, new_m]\n",
    "\n",
    "def gradient_descent_runner(points, starting_b, starting_m, learning_rate, num_iterations):\n",
    "    b = starting_b\n",
    "    m = starting_m\n",
    "    err = []\n",
    "    b_ = []\n",
    "    m_ = []\n",
    "    for i in range(num_iterations):\n",
    "        b, m = step_gradient(b, m, array(points), learning_rate)\n",
    "        error = compute_error_for_line_given_points(b, m, points)\n",
    "        err.append(error)\n",
    "        b_.append(b)\n",
    "        m_.append(m)\n",
    "    draw(err, \"Error\")\n",
    "    draw(b_, \"Intercept\")\n",
    "    draw(m_, \"Slope\")\n",
    "    \n",
    "    return [b, m, err]\n",
    "\n",
    "\n",
    "def draw (err, message):\n",
    "    x = np.arange(0,len(err))\n",
    "    y = err\n",
    "    plt.plot(x, y, '.r', label=message)\n",
    "    plt.title('Graph ')\n",
    "    plt.xlabel('x', color='#1C2833')\n",
    "    plt.ylabel('y', color='#1C2833')\n",
    "    plt.legend(loc='upper left')\n",
    "    plt.grid()\n",
    "    plt.show()\n",
    "\n",
    "def run():\n",
    "    points = genfromtxt(\"data.csv\", delimiter=\",\")\n",
    "    learning_rate = 0.0001\n",
    "    initial_b = 0 # initial y-intercept guess\n",
    "    initial_m = 0 # initial slope guess\n",
    "    num_iterations = 100\n",
    "    print(\"Starting gradient descent at b = {0}, m = {1}, error = {2}\".format(initial_b, initial_m, compute_error_for_line_given_points(initial_b, initial_m, points)))\n",
    "    print(\"Running...\")\n",
    "    [b, m, err] = gradient_descent_runner(points, initial_b, initial_m, learning_rate, num_iterations)\n",
    "    print(\"After {0} iterations b = {1}, m = {2}, error = {3}\".format(num_iterations, b, m, compute_error_for_line_given_points(b, m, points)))\n",
    "    \n",
    "if __name__ == '__main__':\n",
    "    run()"
   ]
  },
  {
   "cell_type": "code",
   "execution_count": 136,
   "metadata": {
    "ExecuteTime": {
     "end_time": "2020-10-10T10:53:04.522702Z",
     "start_time": "2020-10-10T10:53:04.062356Z"
    }
   },
   "outputs": [],
   "source": [
    "import pandas as pd"
   ]
  },
  {
   "cell_type": "code",
   "execution_count": 138,
   "metadata": {
    "ExecuteTime": {
     "end_time": "2020-10-10T10:53:43.729885Z",
     "start_time": "2020-10-10T10:53:43.724619Z"
    }
   },
   "outputs": [],
   "source": [
    "data = pd.read_csv(\"data.csv\",names=[\"Height\", \"Weight\"])"
   ]
  },
  {
   "cell_type": "code",
   "execution_count": 139,
   "metadata": {
    "ExecuteTime": {
     "end_time": "2020-10-10T10:53:47.046912Z",
     "start_time": "2020-10-10T10:53:47.037198Z"
    },
    "scrolled": true
   },
   "outputs": [
    {
     "data": {
      "text/html": [
       "<div>\n",
       "<style scoped>\n",
       "    .dataframe tbody tr th:only-of-type {\n",
       "        vertical-align: middle;\n",
       "    }\n",
       "\n",
       "    .dataframe tbody tr th {\n",
       "        vertical-align: top;\n",
       "    }\n",
       "\n",
       "    .dataframe thead th {\n",
       "        text-align: right;\n",
       "    }\n",
       "</style>\n",
       "<table border=\"1\" class=\"dataframe\">\n",
       "  <thead>\n",
       "    <tr style=\"text-align: right;\">\n",
       "      <th></th>\n",
       "      <th>Height</th>\n",
       "      <th>Weight</th>\n",
       "    </tr>\n",
       "  </thead>\n",
       "  <tbody>\n",
       "    <tr>\n",
       "      <th>0</th>\n",
       "      <td>38.816818</td>\n",
       "      <td>56.877213</td>\n",
       "    </tr>\n",
       "    <tr>\n",
       "      <th>1</th>\n",
       "      <td>66.189817</td>\n",
       "      <td>83.878565</td>\n",
       "    </tr>\n",
       "    <tr>\n",
       "      <th>2</th>\n",
       "      <td>65.416052</td>\n",
       "      <td>118.591217</td>\n",
       "    </tr>\n",
       "    <tr>\n",
       "      <th>3</th>\n",
       "      <td>47.481209</td>\n",
       "      <td>57.251819</td>\n",
       "    </tr>\n",
       "    <tr>\n",
       "      <th>4</th>\n",
       "      <td>41.575643</td>\n",
       "      <td>51.391744</td>\n",
       "    </tr>\n",
       "    <tr>\n",
       "      <th>5</th>\n",
       "      <td>51.845187</td>\n",
       "      <td>75.380652</td>\n",
       "    </tr>\n",
       "    <tr>\n",
       "      <th>6</th>\n",
       "      <td>59.370822</td>\n",
       "      <td>74.765564</td>\n",
       "    </tr>\n",
       "    <tr>\n",
       "      <th>7</th>\n",
       "      <td>57.310003</td>\n",
       "      <td>95.455053</td>\n",
       "    </tr>\n",
       "    <tr>\n",
       "      <th>8</th>\n",
       "      <td>63.615561</td>\n",
       "      <td>95.229366</td>\n",
       "    </tr>\n",
       "    <tr>\n",
       "      <th>9</th>\n",
       "      <td>46.737619</td>\n",
       "      <td>79.052406</td>\n",
       "    </tr>\n",
       "    <tr>\n",
       "      <th>10</th>\n",
       "      <td>50.556760</td>\n",
       "      <td>83.432071</td>\n",
       "    </tr>\n",
       "    <tr>\n",
       "      <th>11</th>\n",
       "      <td>52.223996</td>\n",
       "      <td>63.358790</td>\n",
       "    </tr>\n",
       "    <tr>\n",
       "      <th>12</th>\n",
       "      <td>35.567830</td>\n",
       "      <td>41.412885</td>\n",
       "    </tr>\n",
       "    <tr>\n",
       "      <th>13</th>\n",
       "      <td>42.436477</td>\n",
       "      <td>76.617341</td>\n",
       "    </tr>\n",
       "    <tr>\n",
       "      <th>14</th>\n",
       "      <td>58.164540</td>\n",
       "      <td>96.769566</td>\n",
       "    </tr>\n",
       "    <tr>\n",
       "      <th>15</th>\n",
       "      <td>57.504448</td>\n",
       "      <td>74.084130</td>\n",
       "    </tr>\n",
       "    <tr>\n",
       "      <th>16</th>\n",
       "      <td>45.440531</td>\n",
       "      <td>66.588144</td>\n",
       "    </tr>\n",
       "    <tr>\n",
       "      <th>17</th>\n",
       "      <td>61.896223</td>\n",
       "      <td>77.768482</td>\n",
       "    </tr>\n",
       "    <tr>\n",
       "      <th>18</th>\n",
       "      <td>33.093832</td>\n",
       "      <td>50.719589</td>\n",
       "    </tr>\n",
       "    <tr>\n",
       "      <th>19</th>\n",
       "      <td>36.436010</td>\n",
       "      <td>62.124571</td>\n",
       "    </tr>\n",
       "    <tr>\n",
       "      <th>20</th>\n",
       "      <td>37.675655</td>\n",
       "      <td>60.810247</td>\n",
       "    </tr>\n",
       "    <tr>\n",
       "      <th>21</th>\n",
       "      <td>44.555608</td>\n",
       "      <td>52.682983</td>\n",
       "    </tr>\n",
       "    <tr>\n",
       "      <th>22</th>\n",
       "      <td>43.318283</td>\n",
       "      <td>58.569825</td>\n",
       "    </tr>\n",
       "    <tr>\n",
       "      <th>23</th>\n",
       "      <td>50.073146</td>\n",
       "      <td>82.905981</td>\n",
       "    </tr>\n",
       "    <tr>\n",
       "      <th>24</th>\n",
       "      <td>43.870613</td>\n",
       "      <td>61.424710</td>\n",
       "    </tr>\n",
       "    <tr>\n",
       "      <th>25</th>\n",
       "      <td>62.997481</td>\n",
       "      <td>115.244153</td>\n",
       "    </tr>\n",
       "    <tr>\n",
       "      <th>26</th>\n",
       "      <td>32.669044</td>\n",
       "      <td>45.570589</td>\n",
       "    </tr>\n",
       "    <tr>\n",
       "      <th>27</th>\n",
       "      <td>40.166899</td>\n",
       "      <td>54.084055</td>\n",
       "    </tr>\n",
       "    <tr>\n",
       "      <th>28</th>\n",
       "      <td>53.575078</td>\n",
       "      <td>87.994453</td>\n",
       "    </tr>\n",
       "    <tr>\n",
       "      <th>29</th>\n",
       "      <td>33.864215</td>\n",
       "      <td>52.725494</td>\n",
       "    </tr>\n",
       "    <tr>\n",
       "      <th>30</th>\n",
       "      <td>64.707139</td>\n",
       "      <td>93.576119</td>\n",
       "    </tr>\n",
       "    <tr>\n",
       "      <th>31</th>\n",
       "      <td>38.119824</td>\n",
       "      <td>80.166275</td>\n",
       "    </tr>\n",
       "    <tr>\n",
       "      <th>32</th>\n",
       "      <td>44.502538</td>\n",
       "      <td>65.101712</td>\n",
       "    </tr>\n",
       "    <tr>\n",
       "      <th>33</th>\n",
       "      <td>40.599538</td>\n",
       "      <td>65.562301</td>\n",
       "    </tr>\n",
       "    <tr>\n",
       "      <th>34</th>\n",
       "      <td>41.720676</td>\n",
       "      <td>65.280887</td>\n",
       "    </tr>\n",
       "    <tr>\n",
       "      <th>35</th>\n",
       "      <td>51.088635</td>\n",
       "      <td>73.434642</td>\n",
       "    </tr>\n",
       "    <tr>\n",
       "      <th>36</th>\n",
       "      <td>55.078096</td>\n",
       "      <td>71.139728</td>\n",
       "    </tr>\n",
       "    <tr>\n",
       "      <th>37</th>\n",
       "      <td>41.377727</td>\n",
       "      <td>79.102830</td>\n",
       "    </tr>\n",
       "    <tr>\n",
       "      <th>38</th>\n",
       "      <td>62.494697</td>\n",
       "      <td>86.520538</td>\n",
       "    </tr>\n",
       "    <tr>\n",
       "      <th>39</th>\n",
       "      <td>49.203888</td>\n",
       "      <td>84.742698</td>\n",
       "    </tr>\n",
       "    <tr>\n",
       "      <th>40</th>\n",
       "      <td>41.102685</td>\n",
       "      <td>59.358850</td>\n",
       "    </tr>\n",
       "    <tr>\n",
       "      <th>41</th>\n",
       "      <td>41.182016</td>\n",
       "      <td>61.684038</td>\n",
       "    </tr>\n",
       "    <tr>\n",
       "      <th>42</th>\n",
       "      <td>50.186389</td>\n",
       "      <td>69.847604</td>\n",
       "    </tr>\n",
       "    <tr>\n",
       "      <th>43</th>\n",
       "      <td>52.378446</td>\n",
       "      <td>86.098291</td>\n",
       "    </tr>\n",
       "    <tr>\n",
       "      <th>44</th>\n",
       "      <td>50.135485</td>\n",
       "      <td>59.108839</td>\n",
       "    </tr>\n",
       "    <tr>\n",
       "      <th>45</th>\n",
       "      <td>33.644706</td>\n",
       "      <td>69.899682</td>\n",
       "    </tr>\n",
       "    <tr>\n",
       "      <th>46</th>\n",
       "      <td>39.557901</td>\n",
       "      <td>44.862491</td>\n",
       "    </tr>\n",
       "    <tr>\n",
       "      <th>47</th>\n",
       "      <td>56.130389</td>\n",
       "      <td>85.498068</td>\n",
       "    </tr>\n",
       "    <tr>\n",
       "      <th>48</th>\n",
       "      <td>57.362052</td>\n",
       "      <td>95.536687</td>\n",
       "    </tr>\n",
       "    <tr>\n",
       "      <th>49</th>\n",
       "      <td>60.269214</td>\n",
       "      <td>70.251934</td>\n",
       "    </tr>\n",
       "  </tbody>\n",
       "</table>\n",
       "</div>"
      ],
      "text/plain": [
       "       Height      Weight\n",
       "0   38.816818   56.877213\n",
       "1   66.189817   83.878565\n",
       "2   65.416052  118.591217\n",
       "3   47.481209   57.251819\n",
       "4   41.575643   51.391744\n",
       "5   51.845187   75.380652\n",
       "6   59.370822   74.765564\n",
       "7   57.310003   95.455053\n",
       "8   63.615561   95.229366\n",
       "9   46.737619   79.052406\n",
       "10  50.556760   83.432071\n",
       "11  52.223996   63.358790\n",
       "12  35.567830   41.412885\n",
       "13  42.436477   76.617341\n",
       "14  58.164540   96.769566\n",
       "15  57.504448   74.084130\n",
       "16  45.440531   66.588144\n",
       "17  61.896223   77.768482\n",
       "18  33.093832   50.719589\n",
       "19  36.436010   62.124571\n",
       "20  37.675655   60.810247\n",
       "21  44.555608   52.682983\n",
       "22  43.318283   58.569825\n",
       "23  50.073146   82.905981\n",
       "24  43.870613   61.424710\n",
       "25  62.997481  115.244153\n",
       "26  32.669044   45.570589\n",
       "27  40.166899   54.084055\n",
       "28  53.575078   87.994453\n",
       "29  33.864215   52.725494\n",
       "30  64.707139   93.576119\n",
       "31  38.119824   80.166275\n",
       "32  44.502538   65.101712\n",
       "33  40.599538   65.562301\n",
       "34  41.720676   65.280887\n",
       "35  51.088635   73.434642\n",
       "36  55.078096   71.139728\n",
       "37  41.377727   79.102830\n",
       "38  62.494697   86.520538\n",
       "39  49.203888   84.742698\n",
       "40  41.102685   59.358850\n",
       "41  41.182016   61.684038\n",
       "42  50.186389   69.847604\n",
       "43  52.378446   86.098291\n",
       "44  50.135485   59.108839\n",
       "45  33.644706   69.899682\n",
       "46  39.557901   44.862491\n",
       "47  56.130389   85.498068\n",
       "48  57.362052   95.536687\n",
       "49  60.269214   70.251934"
      ]
     },
     "execution_count": 139,
     "metadata": {},
     "output_type": "execute_result"
    }
   ],
   "source": [
    "data"
   ]
  },
  {
   "cell_type": "code",
   "execution_count": 140,
   "metadata": {
    "ExecuteTime": {
     "end_time": "2020-10-10T10:54:47.170088Z",
     "start_time": "2020-10-10T10:54:47.168071Z"
    }
   },
   "outputs": [],
   "source": [
    "from sklearn.linear_model import LinearRegression"
   ]
  },
  {
   "cell_type": "code",
   "execution_count": 141,
   "metadata": {
    "ExecuteTime": {
     "end_time": "2020-10-10T10:55:10.830342Z",
     "start_time": "2020-10-10T10:55:10.828116Z"
    }
   },
   "outputs": [],
   "source": [
    "linear = LinearRegression()"
   ]
  },
  {
   "cell_type": "code",
   "execution_count": 143,
   "metadata": {
    "ExecuteTime": {
     "end_time": "2020-10-10T10:56:06.449690Z",
     "start_time": "2020-10-10T10:56:06.444748Z"
    }
   },
   "outputs": [
    {
     "data": {
      "text/plain": [
       "Height    0\n",
       "Weight    0\n",
       "dtype: int64"
      ]
     },
     "execution_count": 143,
     "metadata": {},
     "output_type": "execute_result"
    }
   ],
   "source": [
    "data.isna().sum()"
   ]
  },
  {
   "cell_type": "code",
   "execution_count": 145,
   "metadata": {
    "ExecuteTime": {
     "end_time": "2020-10-10T10:56:32.102922Z",
     "start_time": "2020-10-10T10:56:32.074098Z"
    }
   },
   "outputs": [
    {
     "data": {
      "text/plain": [
       "LinearRegression(copy_X=True, fit_intercept=True, n_jobs=None, normalize=False)"
      ]
     },
     "execution_count": 145,
     "metadata": {},
     "output_type": "execute_result"
    }
   ],
   "source": [
    "linear.fit(data[[\"Height\"]], data[[\"Weight\"]])"
   ]
  },
  {
   "cell_type": "code",
   "execution_count": 146,
   "metadata": {
    "ExecuteTime": {
     "end_time": "2020-10-10T10:56:50.245367Z",
     "start_time": "2020-10-10T10:56:50.241550Z"
    }
   },
   "outputs": [
    {
     "data": {
      "text/plain": [
       "array([6.46885628])"
      ]
     },
     "execution_count": 146,
     "metadata": {},
     "output_type": "execute_result"
    }
   ],
   "source": [
    "linear.intercept_"
   ]
  },
  {
   "cell_type": "code",
   "execution_count": 147,
   "metadata": {
    "ExecuteTime": {
     "end_time": "2020-10-10T10:57:03.551398Z",
     "start_time": "2020-10-10T10:57:03.547750Z"
    },
    "scrolled": false
   },
   "outputs": [
    {
     "data": {
      "text/plain": [
       "array([[1.35905254]])"
      ]
     },
     "execution_count": 147,
     "metadata": {},
     "output_type": "execute_result"
    }
   ],
   "source": [
    "linear.coef_"
   ]
  },
  {
   "cell_type": "code",
   "execution_count": 149,
   "metadata": {
    "ExecuteTime": {
     "end_time": "2020-10-10T10:57:43.436188Z",
     "start_time": "2020-10-10T10:57:43.431106Z"
    }
   },
   "outputs": [
    {
     "data": {
      "text/plain": [
       "array([[48.32767459]])"
      ]
     },
     "execution_count": 149,
     "metadata": {},
     "output_type": "execute_result"
    }
   ],
   "source": [
    "linear.predict([[30.8]])"
   ]
  }
 ],
 "metadata": {
  "kernelspec": {
   "display_name": "Python 3",
   "language": "python",
   "name": "python3"
  },
  "language_info": {
   "codemirror_mode": {
    "name": "ipython",
    "version": 3
   },
   "file_extension": ".py",
   "mimetype": "text/x-python",
   "name": "python",
   "nbconvert_exporter": "python",
   "pygments_lexer": "ipython3",
   "version": "3.7.6"
  }
 },
 "nbformat": 4,
 "nbformat_minor": 4
}
