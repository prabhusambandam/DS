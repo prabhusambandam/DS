{
 "cells": [
  {
   "cell_type": "code",
   "execution_count": 165,
   "metadata": {},
   "outputs": [],
   "source": [
    "import numpy as np\n",
    "import pandas as pd\n",
    "from sklearn.linear_model import LinearRegression\n",
    "from sklearn.linear_model import LogisticRegression\n",
    "from sklearn.metrics import mean_squared_error\n",
    "from sklearn.model_selection import cross_val_score\n",
    "from sklearn.model_selection import train_test_split\n",
    "from sklearn.metrics import classification_report, confusion_matrix, accuracy_score, recall_score, precision_score, f1_score, roc_auc_score\n",
    "from sklearn.metrics import plot_roc_curve"
   ]
  },
  {
   "cell_type": "code",
   "execution_count": 166,
   "metadata": {},
   "outputs": [],
   "source": [
    "train = pd.read_csv(\"train_LoanPrediction_Preprocessed.csv\")\n",
    "test = pd.read_csv(\"test_LoanPrediction_Preprocessed.csv\")"
   ]
  },
  {
   "cell_type": "code",
   "execution_count": 167,
   "metadata": {},
   "outputs": [
    {
     "data": {
      "text/html": [
       "<div>\n",
       "<style scoped>\n",
       "    .dataframe tbody tr th:only-of-type {\n",
       "        vertical-align: middle;\n",
       "    }\n",
       "\n",
       "    .dataframe tbody tr th {\n",
       "        vertical-align: top;\n",
       "    }\n",
       "\n",
       "    .dataframe thead th {\n",
       "        text-align: right;\n",
       "    }\n",
       "</style>\n",
       "<table border=\"1\" class=\"dataframe\">\n",
       "  <thead>\n",
       "    <tr style=\"text-align: right;\">\n",
       "      <th></th>\n",
       "      <th>Gender_Female</th>\n",
       "      <th>Gender_Male</th>\n",
       "      <th>Married_No</th>\n",
       "      <th>Married_Yes</th>\n",
       "      <th>Dependents_0</th>\n",
       "      <th>Dependents_1</th>\n",
       "      <th>Dependents_2</th>\n",
       "      <th>Dependents_3+</th>\n",
       "      <th>Education_Graduate</th>\n",
       "      <th>Education_Not Graduate</th>\n",
       "      <th>...</th>\n",
       "      <th>Property_Area_Rural</th>\n",
       "      <th>Property_Area_Semiurban</th>\n",
       "      <th>Property_Area_Urban</th>\n",
       "      <th>ApplicantIncome</th>\n",
       "      <th>CoapplicantIncome</th>\n",
       "      <th>LoanAmount</th>\n",
       "      <th>Loan_Amount_Term</th>\n",
       "      <th>Credit_History</th>\n",
       "      <th>Loan_ID</th>\n",
       "      <th>Loan_Status</th>\n",
       "    </tr>\n",
       "  </thead>\n",
       "  <tbody>\n",
       "    <tr>\n",
       "      <th>0</th>\n",
       "      <td>0</td>\n",
       "      <td>1</td>\n",
       "      <td>0</td>\n",
       "      <td>1</td>\n",
       "      <td>0</td>\n",
       "      <td>1</td>\n",
       "      <td>0</td>\n",
       "      <td>0</td>\n",
       "      <td>1</td>\n",
       "      <td>0</td>\n",
       "      <td>...</td>\n",
       "      <td>1</td>\n",
       "      <td>0</td>\n",
       "      <td>0</td>\n",
       "      <td>4583</td>\n",
       "      <td>1508.0</td>\n",
       "      <td>128.0</td>\n",
       "      <td>360.0</td>\n",
       "      <td>1.0</td>\n",
       "      <td>LP001003</td>\n",
       "      <td>N</td>\n",
       "    </tr>\n",
       "    <tr>\n",
       "      <th>1</th>\n",
       "      <td>0</td>\n",
       "      <td>1</td>\n",
       "      <td>0</td>\n",
       "      <td>1</td>\n",
       "      <td>1</td>\n",
       "      <td>0</td>\n",
       "      <td>0</td>\n",
       "      <td>0</td>\n",
       "      <td>1</td>\n",
       "      <td>0</td>\n",
       "      <td>...</td>\n",
       "      <td>0</td>\n",
       "      <td>0</td>\n",
       "      <td>1</td>\n",
       "      <td>3000</td>\n",
       "      <td>0.0</td>\n",
       "      <td>66.0</td>\n",
       "      <td>360.0</td>\n",
       "      <td>1.0</td>\n",
       "      <td>LP001005</td>\n",
       "      <td>Y</td>\n",
       "    </tr>\n",
       "    <tr>\n",
       "      <th>2</th>\n",
       "      <td>0</td>\n",
       "      <td>1</td>\n",
       "      <td>0</td>\n",
       "      <td>1</td>\n",
       "      <td>1</td>\n",
       "      <td>0</td>\n",
       "      <td>0</td>\n",
       "      <td>0</td>\n",
       "      <td>0</td>\n",
       "      <td>1</td>\n",
       "      <td>...</td>\n",
       "      <td>0</td>\n",
       "      <td>0</td>\n",
       "      <td>1</td>\n",
       "      <td>2583</td>\n",
       "      <td>2358.0</td>\n",
       "      <td>120.0</td>\n",
       "      <td>360.0</td>\n",
       "      <td>1.0</td>\n",
       "      <td>LP001006</td>\n",
       "      <td>Y</td>\n",
       "    </tr>\n",
       "    <tr>\n",
       "      <th>3</th>\n",
       "      <td>0</td>\n",
       "      <td>1</td>\n",
       "      <td>1</td>\n",
       "      <td>0</td>\n",
       "      <td>1</td>\n",
       "      <td>0</td>\n",
       "      <td>0</td>\n",
       "      <td>0</td>\n",
       "      <td>1</td>\n",
       "      <td>0</td>\n",
       "      <td>...</td>\n",
       "      <td>0</td>\n",
       "      <td>0</td>\n",
       "      <td>1</td>\n",
       "      <td>6000</td>\n",
       "      <td>0.0</td>\n",
       "      <td>141.0</td>\n",
       "      <td>360.0</td>\n",
       "      <td>1.0</td>\n",
       "      <td>LP001008</td>\n",
       "      <td>Y</td>\n",
       "    </tr>\n",
       "    <tr>\n",
       "      <th>4</th>\n",
       "      <td>0</td>\n",
       "      <td>1</td>\n",
       "      <td>0</td>\n",
       "      <td>1</td>\n",
       "      <td>0</td>\n",
       "      <td>0</td>\n",
       "      <td>1</td>\n",
       "      <td>0</td>\n",
       "      <td>1</td>\n",
       "      <td>0</td>\n",
       "      <td>...</td>\n",
       "      <td>0</td>\n",
       "      <td>0</td>\n",
       "      <td>1</td>\n",
       "      <td>5417</td>\n",
       "      <td>4196.0</td>\n",
       "      <td>267.0</td>\n",
       "      <td>360.0</td>\n",
       "      <td>1.0</td>\n",
       "      <td>LP001011</td>\n",
       "      <td>Y</td>\n",
       "    </tr>\n",
       "  </tbody>\n",
       "</table>\n",
       "<p>5 rows × 22 columns</p>\n",
       "</div>"
      ],
      "text/plain": [
       "   Gender_Female  Gender_Male  Married_No  Married_Yes  Dependents_0  \\\n",
       "0              0            1           0            1             0   \n",
       "1              0            1           0            1             1   \n",
       "2              0            1           0            1             1   \n",
       "3              0            1           1            0             1   \n",
       "4              0            1           0            1             0   \n",
       "\n",
       "   Dependents_1  Dependents_2  Dependents_3+  Education_Graduate  \\\n",
       "0             1             0              0                   1   \n",
       "1             0             0              0                   1   \n",
       "2             0             0              0                   0   \n",
       "3             0             0              0                   1   \n",
       "4             0             1              0                   1   \n",
       "\n",
       "   Education_Not Graduate  ...  Property_Area_Rural  Property_Area_Semiurban  \\\n",
       "0                       0  ...                    1                        0   \n",
       "1                       0  ...                    0                        0   \n",
       "2                       1  ...                    0                        0   \n",
       "3                       0  ...                    0                        0   \n",
       "4                       0  ...                    0                        0   \n",
       "\n",
       "   Property_Area_Urban  ApplicantIncome  CoapplicantIncome  LoanAmount  \\\n",
       "0                    0             4583             1508.0       128.0   \n",
       "1                    1             3000                0.0        66.0   \n",
       "2                    1             2583             2358.0       120.0   \n",
       "3                    1             6000                0.0       141.0   \n",
       "4                    1             5417             4196.0       267.0   \n",
       "\n",
       "   Loan_Amount_Term  Credit_History   Loan_ID  Loan_Status  \n",
       "0             360.0             1.0  LP001003            N  \n",
       "1             360.0             1.0  LP001005            Y  \n",
       "2             360.0             1.0  LP001006            Y  \n",
       "3             360.0             1.0  LP001008            Y  \n",
       "4             360.0             1.0  LP001011            Y  \n",
       "\n",
       "[5 rows x 22 columns]"
      ]
     },
     "execution_count": 167,
     "metadata": {},
     "output_type": "execute_result"
    }
   ],
   "source": [
    "train.head()"
   ]
  },
  {
   "cell_type": "code",
   "execution_count": 168,
   "metadata": {},
   "outputs": [
    {
     "data": {
      "text/html": [
       "<div>\n",
       "<style scoped>\n",
       "    .dataframe tbody tr th:only-of-type {\n",
       "        vertical-align: middle;\n",
       "    }\n",
       "\n",
       "    .dataframe tbody tr th {\n",
       "        vertical-align: top;\n",
       "    }\n",
       "\n",
       "    .dataframe thead th {\n",
       "        text-align: right;\n",
       "    }\n",
       "</style>\n",
       "<table border=\"1\" class=\"dataframe\">\n",
       "  <thead>\n",
       "    <tr style=\"text-align: right;\">\n",
       "      <th></th>\n",
       "      <th>Gender_Female</th>\n",
       "      <th>Gender_Male</th>\n",
       "      <th>Married_No</th>\n",
       "      <th>Married_Yes</th>\n",
       "      <th>Dependents_0</th>\n",
       "      <th>Dependents_1</th>\n",
       "      <th>Dependents_2</th>\n",
       "      <th>Dependents_3+</th>\n",
       "      <th>Education_Graduate</th>\n",
       "      <th>Education_Not Graduate</th>\n",
       "      <th>...</th>\n",
       "      <th>Property_Area_Rural</th>\n",
       "      <th>Property_Area_Semiurban</th>\n",
       "      <th>Property_Area_Urban</th>\n",
       "      <th>ApplicantIncome</th>\n",
       "      <th>CoapplicantIncome</th>\n",
       "      <th>LoanAmount</th>\n",
       "      <th>Loan_Amount_Term</th>\n",
       "      <th>Credit_History</th>\n",
       "      <th>Loan_ID</th>\n",
       "      <th>Loan_Status</th>\n",
       "    </tr>\n",
       "  </thead>\n",
       "  <tbody>\n",
       "    <tr>\n",
       "      <th>0</th>\n",
       "      <td>0</td>\n",
       "      <td>1</td>\n",
       "      <td>0</td>\n",
       "      <td>1</td>\n",
       "      <td>1</td>\n",
       "      <td>0</td>\n",
       "      <td>0</td>\n",
       "      <td>0</td>\n",
       "      <td>1</td>\n",
       "      <td>0</td>\n",
       "      <td>...</td>\n",
       "      <td>0</td>\n",
       "      <td>0</td>\n",
       "      <td>1</td>\n",
       "      <td>5720</td>\n",
       "      <td>0.0</td>\n",
       "      <td>110.0</td>\n",
       "      <td>360.0</td>\n",
       "      <td>1.0</td>\n",
       "      <td>LP001015</td>\n",
       "      <td>NaN</td>\n",
       "    </tr>\n",
       "    <tr>\n",
       "      <th>1</th>\n",
       "      <td>0</td>\n",
       "      <td>1</td>\n",
       "      <td>0</td>\n",
       "      <td>1</td>\n",
       "      <td>0</td>\n",
       "      <td>1</td>\n",
       "      <td>0</td>\n",
       "      <td>0</td>\n",
       "      <td>1</td>\n",
       "      <td>0</td>\n",
       "      <td>...</td>\n",
       "      <td>0</td>\n",
       "      <td>0</td>\n",
       "      <td>1</td>\n",
       "      <td>3076</td>\n",
       "      <td>1500.0</td>\n",
       "      <td>126.0</td>\n",
       "      <td>360.0</td>\n",
       "      <td>1.0</td>\n",
       "      <td>LP001022</td>\n",
       "      <td>NaN</td>\n",
       "    </tr>\n",
       "    <tr>\n",
       "      <th>2</th>\n",
       "      <td>0</td>\n",
       "      <td>1</td>\n",
       "      <td>0</td>\n",
       "      <td>1</td>\n",
       "      <td>0</td>\n",
       "      <td>0</td>\n",
       "      <td>1</td>\n",
       "      <td>0</td>\n",
       "      <td>1</td>\n",
       "      <td>0</td>\n",
       "      <td>...</td>\n",
       "      <td>0</td>\n",
       "      <td>0</td>\n",
       "      <td>1</td>\n",
       "      <td>5000</td>\n",
       "      <td>1800.0</td>\n",
       "      <td>208.0</td>\n",
       "      <td>360.0</td>\n",
       "      <td>1.0</td>\n",
       "      <td>LP001031</td>\n",
       "      <td>NaN</td>\n",
       "    </tr>\n",
       "    <tr>\n",
       "      <th>3</th>\n",
       "      <td>0</td>\n",
       "      <td>1</td>\n",
       "      <td>1</td>\n",
       "      <td>0</td>\n",
       "      <td>1</td>\n",
       "      <td>0</td>\n",
       "      <td>0</td>\n",
       "      <td>0</td>\n",
       "      <td>0</td>\n",
       "      <td>1</td>\n",
       "      <td>...</td>\n",
       "      <td>0</td>\n",
       "      <td>0</td>\n",
       "      <td>1</td>\n",
       "      <td>3276</td>\n",
       "      <td>0.0</td>\n",
       "      <td>78.0</td>\n",
       "      <td>360.0</td>\n",
       "      <td>1.0</td>\n",
       "      <td>LP001051</td>\n",
       "      <td>NaN</td>\n",
       "    </tr>\n",
       "    <tr>\n",
       "      <th>4</th>\n",
       "      <td>0</td>\n",
       "      <td>1</td>\n",
       "      <td>0</td>\n",
       "      <td>1</td>\n",
       "      <td>1</td>\n",
       "      <td>0</td>\n",
       "      <td>0</td>\n",
       "      <td>0</td>\n",
       "      <td>0</td>\n",
       "      <td>1</td>\n",
       "      <td>...</td>\n",
       "      <td>0</td>\n",
       "      <td>0</td>\n",
       "      <td>1</td>\n",
       "      <td>2165</td>\n",
       "      <td>3422.0</td>\n",
       "      <td>152.0</td>\n",
       "      <td>360.0</td>\n",
       "      <td>1.0</td>\n",
       "      <td>LP001054</td>\n",
       "      <td>NaN</td>\n",
       "    </tr>\n",
       "  </tbody>\n",
       "</table>\n",
       "<p>5 rows × 22 columns</p>\n",
       "</div>"
      ],
      "text/plain": [
       "   Gender_Female  Gender_Male  Married_No  Married_Yes  Dependents_0  \\\n",
       "0              0            1           0            1             1   \n",
       "1              0            1           0            1             0   \n",
       "2              0            1           0            1             0   \n",
       "3              0            1           1            0             1   \n",
       "4              0            1           0            1             1   \n",
       "\n",
       "   Dependents_1  Dependents_2  Dependents_3+  Education_Graduate  \\\n",
       "0             0             0              0                   1   \n",
       "1             1             0              0                   1   \n",
       "2             0             1              0                   1   \n",
       "3             0             0              0                   0   \n",
       "4             0             0              0                   0   \n",
       "\n",
       "   Education_Not Graduate  ...  Property_Area_Rural  Property_Area_Semiurban  \\\n",
       "0                       0  ...                    0                        0   \n",
       "1                       0  ...                    0                        0   \n",
       "2                       0  ...                    0                        0   \n",
       "3                       1  ...                    0                        0   \n",
       "4                       1  ...                    0                        0   \n",
       "\n",
       "   Property_Area_Urban  ApplicantIncome  CoapplicantIncome  LoanAmount  \\\n",
       "0                    1             5720                0.0       110.0   \n",
       "1                    1             3076             1500.0       126.0   \n",
       "2                    1             5000             1800.0       208.0   \n",
       "3                    1             3276                0.0        78.0   \n",
       "4                    1             2165             3422.0       152.0   \n",
       "\n",
       "   Loan_Amount_Term  Credit_History   Loan_ID  Loan_Status  \n",
       "0             360.0             1.0  LP001015          NaN  \n",
       "1             360.0             1.0  LP001022          NaN  \n",
       "2             360.0             1.0  LP001031          NaN  \n",
       "3             360.0             1.0  LP001051          NaN  \n",
       "4             360.0             1.0  LP001054          NaN  \n",
       "\n",
       "[5 rows x 22 columns]"
      ]
     },
     "execution_count": 168,
     "metadata": {},
     "output_type": "execute_result"
    }
   ],
   "source": [
    "test.head()"
   ]
  },
  {
   "cell_type": "code",
   "execution_count": 169,
   "metadata": {},
   "outputs": [
    {
     "data": {
      "text/plain": [
       "(367, 2)"
      ]
     },
     "execution_count": 169,
     "metadata": {},
     "output_type": "execute_result"
    }
   ],
   "source": [
    "train_y_all = pd.concat([train[[\"Loan_ID\",\"Loan_Status\"]]])\n",
    "train_y_all = train_y_all.iloc[0:367]\n",
    "train_y_all.shape"
   ]
  },
  {
   "cell_type": "code",
   "execution_count": 141,
   "metadata": {},
   "outputs": [],
   "source": [
    "train_X = train.drop(columns= [\"Loan_ID\",\"Loan_Status\"])"
   ]
  },
  {
   "cell_type": "code",
   "execution_count": 142,
   "metadata": {},
   "outputs": [],
   "source": [
    "test_X = test.drop(columns= [\"Loan_ID\",\"Loan_Status\"])"
   ]
  },
  {
   "cell_type": "code",
   "execution_count": 143,
   "metadata": {},
   "outputs": [],
   "source": [
    "train = train.iloc[1:368]"
   ]
  },
  {
   "cell_type": "code",
   "execution_count": 144,
   "metadata": {},
   "outputs": [],
   "source": [
    "train_y = np.where(train[\"Loan_Status\"]==\"N\",0,1)"
   ]
  },
  {
   "cell_type": "code",
   "execution_count": 145,
   "metadata": {},
   "outputs": [
    {
     "data": {
      "text/plain": [
       "(367,)"
      ]
     },
     "execution_count": 145,
     "metadata": {},
     "output_type": "execute_result"
    }
   ],
   "source": [
    "train_y.shape"
   ]
  },
  {
   "cell_type": "code",
   "execution_count": 146,
   "metadata": {},
   "outputs": [],
   "source": [
    "sample = pd.read_csv(\"sample_submission.csv\")"
   ]
  },
  {
   "cell_type": "code",
   "execution_count": 26,
   "metadata": {},
   "outputs": [],
   "source": [
    "sample = sample.drop(columns= [\"Loan_ID\"])"
   ]
  },
  {
   "cell_type": "code",
   "execution_count": 27,
   "metadata": {},
   "outputs": [],
   "source": [
    "sample[\"Loan_Status\"] = np.where(sample[\"Loan_Status\"]==\"N\",0,1)"
   ]
  },
  {
   "cell_type": "code",
   "execution_count": 147,
   "metadata": {},
   "outputs": [
    {
     "data": {
      "text/plain": [
       "(367, 2)"
      ]
     },
     "execution_count": 147,
     "metadata": {},
     "output_type": "execute_result"
    }
   ],
   "source": [
    "sample.shape"
   ]
  },
  {
   "cell_type": "code",
   "execution_count": 148,
   "metadata": {},
   "outputs": [],
   "source": [
    "def run_model(model, train_X, train_y, test_X, sample, filename ):\n",
    "    model.fit(train_X, train_y)\n",
    "    pd.Series(model.coef_,index=test_X.columns).plot(kind = \"bar\")\n",
    "    pred_train = model.predict(train_X)\n",
    "    pred_test = model.predict(test_X)\n",
    "    #pred_test = abs(pred_test)\n",
    "    print(\"RMSE of Train Data = \",np.sqrt(mean_squared_error(train_y, pred_train)))\n",
    "    score = cross_val_score(model, train_X, train_y, cv = 10, scoring = \"neg_root_mean_squared_error\" )\n",
    "    print(\"Cross validation Score  = \",np.mean(np.abs(score)))\n",
    "    print(\"result\", pred_train)\n",
    "    #sample\n",
    "    sample.to_csv(filename)"
   ]
  },
  {
   "cell_type": "code",
   "execution_count": null,
   "metadata": {},
   "outputs": [],
   "source": [
    "X = train\n",
    "y = data[\"Gender\"]"
   ]
  },
  {
   "cell_type": "code",
   "execution_count": 158,
   "metadata": {},
   "outputs": [],
   "source": [
    "train_tmp = train.drop(columns= [\"Loan_Status\",\"Loan_ID\"])\n",
    "train_tmp = train_tmp.iloc[1:368]\n",
    "test_tmp = test.drop(columns= [\"Loan_Status\",\"Loan_ID\"])"
   ]
  },
  {
   "cell_type": "code",
   "execution_count": 159,
   "metadata": {},
   "outputs": [
    {
     "data": {
      "text/plain": [
       "(366, 20)"
      ]
     },
     "execution_count": 159,
     "metadata": {},
     "output_type": "execute_result"
    }
   ],
   "source": [
    "train_tmp.shape"
   ]
  },
  {
   "cell_type": "code",
   "execution_count": 160,
   "metadata": {},
   "outputs": [
    {
     "data": {
      "text/plain": [
       "(289, 20)"
      ]
     },
     "execution_count": 160,
     "metadata": {},
     "output_type": "execute_result"
    }
   ],
   "source": [
    "test_tmp.shape"
   ]
  },
  {
   "cell_type": "code",
   "execution_count": 161,
   "metadata": {},
   "outputs": [],
   "source": [
    "X = pd.concat([train_tmp,test_tmp])\n",
    "X = X.iloc[1:368]\n",
    "y = train[[\"Loan_ID\",\"Loan_Status\"]]"
   ]
  },
  {
   "cell_type": "code",
   "execution_count": 170,
   "metadata": {},
   "outputs": [],
   "source": [
    "train_X, test_X, train_y, test_y = train_test_split(train_X,train_y, test_size=0.3, random_state = 0)"
   ]
  },
  {
   "cell_type": "code",
   "execution_count": 171,
   "metadata": {},
   "outputs": [],
   "source": [
    "model = LogisticRegression()"
   ]
  },
  {
   "cell_type": "code",
   "execution_count": 173,
   "metadata": {},
   "outputs": [
    {
     "ename": "ValueError",
     "evalue": "bad input shape (179, 2)",
     "output_type": "error",
     "traceback": [
      "\u001b[1;31m---------------------------------------------------------------------------\u001b[0m",
      "\u001b[1;31mValueError\u001b[0m                                Traceback (most recent call last)",
      "\u001b[1;32m<ipython-input-173-92379a943613>\u001b[0m in \u001b[0;36m<module>\u001b[1;34m\u001b[0m\n\u001b[1;32m----> 1\u001b[1;33m \u001b[0mmodel\u001b[0m\u001b[1;33m.\u001b[0m\u001b[0mfit\u001b[0m\u001b[1;33m(\u001b[0m\u001b[0mtrain_X\u001b[0m\u001b[1;33m,\u001b[0m \u001b[0mtrain_y\u001b[0m\u001b[1;33m)\u001b[0m\u001b[1;33m\u001b[0m\u001b[1;33m\u001b[0m\u001b[0m\n\u001b[0m",
      "\u001b[1;32m~\\anaconda3\\lib\\site-packages\\sklearn\\linear_model\\_logistic.py\u001b[0m in \u001b[0;36mfit\u001b[1;34m(self, X, y, sample_weight)\u001b[0m\n\u001b[0;32m   1525\u001b[0m \u001b[1;33m\u001b[0m\u001b[0m\n\u001b[0;32m   1526\u001b[0m         X, y = check_X_y(X, y, accept_sparse='csr', dtype=_dtype, order=\"C\",\n\u001b[1;32m-> 1527\u001b[1;33m                          accept_large_sparse=solver != 'liblinear')\n\u001b[0m\u001b[0;32m   1528\u001b[0m         \u001b[0mcheck_classification_targets\u001b[0m\u001b[1;33m(\u001b[0m\u001b[0my\u001b[0m\u001b[1;33m)\u001b[0m\u001b[1;33m\u001b[0m\u001b[1;33m\u001b[0m\u001b[0m\n\u001b[0;32m   1529\u001b[0m         \u001b[0mself\u001b[0m\u001b[1;33m.\u001b[0m\u001b[0mclasses_\u001b[0m \u001b[1;33m=\u001b[0m \u001b[0mnp\u001b[0m\u001b[1;33m.\u001b[0m\u001b[0munique\u001b[0m\u001b[1;33m(\u001b[0m\u001b[0my\u001b[0m\u001b[1;33m)\u001b[0m\u001b[1;33m\u001b[0m\u001b[1;33m\u001b[0m\u001b[0m\n",
      "\u001b[1;32m~\\anaconda3\\lib\\site-packages\\sklearn\\utils\\validation.py\u001b[0m in \u001b[0;36mcheck_X_y\u001b[1;34m(X, y, accept_sparse, accept_large_sparse, dtype, order, copy, force_all_finite, ensure_2d, allow_nd, multi_output, ensure_min_samples, ensure_min_features, y_numeric, warn_on_dtype, estimator)\u001b[0m\n\u001b[0;32m    758\u001b[0m                         dtype=None)\n\u001b[0;32m    759\u001b[0m     \u001b[1;32melse\u001b[0m\u001b[1;33m:\u001b[0m\u001b[1;33m\u001b[0m\u001b[1;33m\u001b[0m\u001b[0m\n\u001b[1;32m--> 760\u001b[1;33m         \u001b[0my\u001b[0m \u001b[1;33m=\u001b[0m \u001b[0mcolumn_or_1d\u001b[0m\u001b[1;33m(\u001b[0m\u001b[0my\u001b[0m\u001b[1;33m,\u001b[0m \u001b[0mwarn\u001b[0m\u001b[1;33m=\u001b[0m\u001b[1;32mTrue\u001b[0m\u001b[1;33m)\u001b[0m\u001b[1;33m\u001b[0m\u001b[1;33m\u001b[0m\u001b[0m\n\u001b[0m\u001b[0;32m    761\u001b[0m         \u001b[0m_assert_all_finite\u001b[0m\u001b[1;33m(\u001b[0m\u001b[0my\u001b[0m\u001b[1;33m)\u001b[0m\u001b[1;33m\u001b[0m\u001b[1;33m\u001b[0m\u001b[0m\n\u001b[0;32m    762\u001b[0m     \u001b[1;32mif\u001b[0m \u001b[0my_numeric\u001b[0m \u001b[1;32mand\u001b[0m \u001b[0my\u001b[0m\u001b[1;33m.\u001b[0m\u001b[0mdtype\u001b[0m\u001b[1;33m.\u001b[0m\u001b[0mkind\u001b[0m \u001b[1;33m==\u001b[0m \u001b[1;34m'O'\u001b[0m\u001b[1;33m:\u001b[0m\u001b[1;33m\u001b[0m\u001b[1;33m\u001b[0m\u001b[0m\n",
      "\u001b[1;32m~\\anaconda3\\lib\\site-packages\\sklearn\\utils\\validation.py\u001b[0m in \u001b[0;36mcolumn_or_1d\u001b[1;34m(y, warn)\u001b[0m\n\u001b[0;32m    795\u001b[0m         \u001b[1;32mreturn\u001b[0m \u001b[0mnp\u001b[0m\u001b[1;33m.\u001b[0m\u001b[0mravel\u001b[0m\u001b[1;33m(\u001b[0m\u001b[0my\u001b[0m\u001b[1;33m)\u001b[0m\u001b[1;33m\u001b[0m\u001b[1;33m\u001b[0m\u001b[0m\n\u001b[0;32m    796\u001b[0m \u001b[1;33m\u001b[0m\u001b[0m\n\u001b[1;32m--> 797\u001b[1;33m     \u001b[1;32mraise\u001b[0m \u001b[0mValueError\u001b[0m\u001b[1;33m(\u001b[0m\u001b[1;34m\"bad input shape {0}\"\u001b[0m\u001b[1;33m.\u001b[0m\u001b[0mformat\u001b[0m\u001b[1;33m(\u001b[0m\u001b[0mshape\u001b[0m\u001b[1;33m)\u001b[0m\u001b[1;33m)\u001b[0m\u001b[1;33m\u001b[0m\u001b[1;33m\u001b[0m\u001b[0m\n\u001b[0m\u001b[0;32m    798\u001b[0m \u001b[1;33m\u001b[0m\u001b[0m\n\u001b[0;32m    799\u001b[0m \u001b[1;33m\u001b[0m\u001b[0m\n",
      "\u001b[1;31mValueError\u001b[0m: bad input shape (179, 2)"
     ]
    }
   ],
   "source": [
    "model.fit(train_X, train_y)"
   ]
  },
  {
   "cell_type": "code",
   "execution_count": 32,
   "metadata": {},
   "outputs": [
    {
     "data": {
      "text/plain": [
       "array([[-9.10839553e-02,  1.93910503e-01, -1.81617109e-01,\n",
       "         2.84443657e-01,  1.48461281e-01, -2.65333448e-01,\n",
       "         2.48092527e-01, -2.83938124e-02,  3.83762035e-01,\n",
       "        -2.80935487e-01,  1.39386058e-01, -3.65595100e-02,\n",
       "        -3.75897408e-01,  7.83198143e-01, -3.04474187e-01,\n",
       "        -1.03620035e-06, -5.64962070e-05, -3.02014319e-03,\n",
       "        -4.82326073e-03,  2.65153787e+00]])"
      ]
     },
     "execution_count": 32,
     "metadata": {},
     "output_type": "execute_result"
    }
   ],
   "source": [
    "model.coef_"
   ]
  },
  {
   "cell_type": "code",
   "execution_count": 33,
   "metadata": {},
   "outputs": [
    {
     "data": {
      "text/plain": [
       "array([0.10777492])"
      ]
     },
     "execution_count": 33,
     "metadata": {},
     "output_type": "execute_result"
    }
   ],
   "source": [
    "model.intercept_"
   ]
  },
  {
   "cell_type": "code",
   "execution_count": 34,
   "metadata": {},
   "outputs": [],
   "source": [
    "train_pred = model.predict(train_X)\n",
    "test_pred = model.predict(test_X)"
   ]
  },
  {
   "cell_type": "code",
   "execution_count": 35,
   "metadata": {},
   "outputs": [],
   "source": [
    "def metric_res(acctual, pred):\n",
    "    print(\"confusion_matrix \", confusion_matrix(acctual, pred))"
   ]
  },
  {
   "cell_type": "code",
   "execution_count": 38,
   "metadata": {},
   "outputs": [
    {
     "name": "stdout",
     "output_type": "stream",
     "text": [
      "confusion_matrix  [[ 69  79]\n",
      " [ 11 321]]\n"
     ]
    }
   ],
   "source": [
    "metric_res(train_y,train_pred)"
   ]
  },
  {
   "cell_type": "code",
   "execution_count": 42,
   "metadata": {},
   "outputs": [
    {
     "name": "stdout",
     "output_type": "stream",
     "text": [
      "RMSE of Train Data =  0.38012195032587065\n",
      "Cross validation Score  =  0.3936362882368979\n",
      "result [ 0.72986278  0.83841242  0.74766689  0.73487796  0.75170465  0.76541502\n",
      "  0.25719601  0.83112078  0.70318392  0.87856874  0.75808561  0.68683444\n",
      "  0.92843839  0.74078266  0.033895    0.73420861  0.10718028  0.64722235\n",
      "  0.19490946  0.90449994  0.92357488  0.7973549   0.7133414   0.76067616\n",
      "  0.64727578  0.93263526  0.62981229  0.86779782  0.65100766  0.78222086\n",
      "  0.75848881  0.76001455  0.91864335  0.80977913  0.82344518  0.07409483\n",
      "  0.77075923  0.82086074  0.80051898  0.80461568  0.85933325 -0.02798855\n",
      "  0.97619917  0.93983315  0.77486189  0.73491182  0.76633114  0.79698366\n",
      "  0.86257069  0.02573767  0.13112781  0.84822068  0.00934462  0.70231406\n",
      "  0.81777708  0.1229389   0.78250086  0.8915708   0.87952546  0.90967389\n",
      "  0.72857903  0.67614715  0.73670722  0.24290441  0.80476643  0.77214148\n",
      "  0.82250535  0.8250505   0.93203607  0.70806862  0.8864119   0.9141418\n",
      "  0.92514147  0.80169737  0.8548092   0.86501838  0.86230743  0.96411203\n",
      "  0.90990169  0.9075579   0.79241643  0.80907756  0.77555384  0.81619739\n",
      "  0.12067508  0.89190221  0.73647917  0.7511981   0.85590785  0.76033146\n",
      "  0.63464322  0.83272648  0.04032253  0.99348444  0.69044632  0.06782128\n",
      "  0.74254624  0.87536906  1.00174599  0.86361245  0.82783645  0.76218723\n",
      "  0.83063335  0.14078691  0.75511365  0.78893464  0.72329916  0.84392695\n",
      "  0.92547417  0.86680936  0.8578898   0.83845925  0.79994796  0.60261446\n",
      "  0.93653692  0.04195192  0.73795601  0.69440267  0.77327648  0.77067276\n",
      "  0.14656614  0.75323798  0.83942066  0.88146491  0.7706541   0.20619396\n",
      "  0.80523062  0.87893903  0.75059413  0.76652624  0.18980038  0.94767148\n",
      "  0.8017348   0.8683467   0.8750684   0.78493981  0.82582985  0.0402998\n",
      "  0.89201084 -0.0149682   0.01702818  0.98987338  0.85302446  0.89578908\n",
      "  0.91148633  0.08843254  0.80130495  0.67946853  0.84281355  0.75466635\n",
      "  0.87366646  0.7114814   0.84600615  0.65287278  0.74692688  0.81721586\n",
      "  0.19791918  0.69859368  0.91403942  0.73912585  0.70384429  0.6531957\n",
      "  0.76641502  0.85224876  0.76633985  0.28115928  0.7146997   0.74302467\n",
      "  0.79737274  0.90492864  0.77625235  0.92478145  0.18396832  0.96428062\n",
      "  0.81981592  0.94370855  0.7800663   0.92709521  0.66447923  0.87765312\n",
      "  0.73787027  0.86567489  0.71533108  0.60518137  0.89999337  0.79015967\n",
      "  0.71227877  0.71662872  0.81328853  0.84182575  0.71378904  0.87193001\n",
      "  0.73415543  0.85560177  0.82626143  0.14128828  0.71252936  0.61983164\n",
      "  0.72217082  0.03360841  0.62283402 -0.01926459  0.86616371  0.7135476\n",
      "  0.82856315  0.77548954  0.65914409  0.83763962  0.66759602  0.95364885\n",
      "  0.15014185  0.63047702  0.72454146  0.83040858  0.69137388  0.91212871\n",
      "  0.99040465  0.87518189  0.88002265  0.83639469  0.82189792 -0.09973551\n",
      "  0.94154939  0.89659502  0.69865147  0.69616559  0.78622788  0.78310199\n",
      "  0.80330088  0.68738636  0.77106463  0.30364019  0.84430764  0.8928708\n",
      "  0.85937418  0.71702712  0.60561062  0.75242588  0.08134372  0.65266719\n",
      "  0.76928325  0.6805977   0.63560093  0.00479473  0.57342639  0.81530852\n",
      "  0.77461917  0.68242486  0.7279786   0.977858    0.72055934  0.92697262\n",
      "  0.96476567  0.75670562 -0.08843696  0.03605096  0.88541675  0.76007034\n",
      "  0.70871668  0.67263795  0.86392474  0.75289968  0.8215433   0.72425405\n",
      "  0.68647681  0.68848108  0.92406545  0.90579299  0.77980723  0.7164192\n",
      "  0.90424705  0.5993116   0.81440327  0.0669397   0.88131673  0.78972806\n",
      "  0.79903988  0.07431668  0.90709574  0.76283686  0.89774724  0.80753657\n",
      "  0.6891969   0.64518778  0.84810524  0.86934806  0.5784151   0.82072716\n",
      "  0.96437315  0.6518682   0.02520809  0.84892107  0.77789905  0.74550176\n",
      "  0.86152078  0.74596546  0.67426694  0.72566701  0.8733763   0.77276195\n",
      "  0.80264006  0.80023255  0.7103887   0.76328828  0.92719187  0.85440433\n",
      "  0.03573894  0.82870688  0.63856282  0.11850257  0.18543524  0.67914409\n",
      "  0.68178062  0.76519008  0.6132768   0.80359091  0.74907433  0.61578334\n",
      "  0.21661196  0.10532828  0.69242353  0.02805638  0.72365132  0.10261023\n",
      "  0.71195435  0.61532752  0.61862191  0.77762912  0.92477136  0.79508385\n",
      "  0.82346791  0.96287496  0.76130204  0.55626144  0.97399625  0.81406041\n",
      "  0.7283886   0.72154924  0.04748733  0.9138416   0.75031087  0.86646857\n",
      "  0.03167853  0.66389051  0.78205313  0.76263842  0.78663161  0.81046418\n",
      "  0.71555387  0.77614427  0.13382403  0.08525845  0.10187432  0.14323338\n",
      "  0.85717312  0.9878923   0.83316801  0.78689707  0.73754241  0.93188818\n",
      "  0.87831762  0.76727638  0.19298094  0.70444095  0.15000088  0.81447076\n",
      "  0.83867803  0.02525858  0.97664079  0.68580522  0.80551472  0.92680324\n",
      "  0.87767017  0.5808131   0.76366878  0.91253678  0.9029627   0.92885398\n",
      "  0.65617969  0.08838747  0.62967392  0.92777294  0.75976022  0.65297942\n",
      "  0.68907212  0.1102436   0.87127082  0.72812463  0.88472582 -0.03541602\n",
      "  0.60809293  0.80884982  0.89165674  0.87623921  0.7428991   0.76045918\n",
      "  0.67232264  0.64548748  0.82010331  0.83433055  0.92950272  0.60056049\n",
      "  0.78008971  0.89418082  0.8118883   0.60459006  0.92990733  0.88143018\n",
      "  0.80492755  0.6077019   0.71178799  0.94946428  0.1274902   0.73645036\n",
      "  0.7910143   0.86301508  0.0759944   0.61774992  0.71402182  0.89323988\n",
      "  0.75578054  0.83455231  0.82721265  0.13677598  0.68767451  0.76841828\n",
      "  0.8535111   0.68396181  0.13708215  0.78646845  0.73177712  0.05075893\n",
      "  0.11042498  0.92117591  0.89873628  0.90401996  0.84480256  0.91832283\n",
      "  0.63260972  0.74646046  0.77411861  0.1390726   0.76244613  0.12777728\n",
      "  0.73264732  0.14784568  0.73372479  0.80921576  0.85851275  0.95711471\n",
      "  0.90255889  0.72119297  0.73012922  0.94460023  0.44898548  0.92528521\n",
      "  0.0457144   0.73563153  0.8239096   0.75828991  0.29579362  0.96510933\n",
      "  0.94518569  0.78693796  0.76708449  0.65307678  0.72106769  0.76513505\n",
      "  0.83611705  0.85239697  0.65093748  0.68593204  0.84569866  0.74354529\n",
      "  0.78819627  0.67648373  0.88141039  0.72274891  0.83942348  0.10898143]\n"
     ]
    },
    {
     "data": {
      "image/png": "[encoded data removed]",
      "text/plain": [
       "<Figure size 432x288 with 1 Axes>"
      ]
     },
     "metadata": {
      "needs_background": "light"
     },
     "output_type": "display_data"
    }
   ],
   "source": [
    "model = LinearRegression()\n",
    "run_model(model, train_X, train_y, test_X, sample, \"test_result_Linear_regression.csv\" )"
   ]
  },
  {
   "cell_type": "code",
   "execution_count": null,
   "metadata": {},
   "outputs": [],
   "source": []
  },
  {
   "cell_type": "code",
   "execution_count": null,
   "metadata": {},
   "outputs": [],
   "source": []
  }
 ],
 "metadata": {
  "kernelspec": {
   "display_name": "Python 3",
   "language": "python",
   "name": "python3"
  },
  "language_info": {
   "codemirror_mode": {
    "name": "ipython",
    "version": 3
   },
   "file_extension": ".py",
   "mimetype": "text/x-python",
   "name": "python",
   "nbconvert_exporter": "python",
   "pygments_lexer": "ipython3",
   "version": "3.7.6"
  }
 },
 "nbformat": 4,
 "nbformat_minor": 4
}
